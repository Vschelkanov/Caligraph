{
 "cells": [
  {
   "cell_type": "code",
   "execution_count": 1,
   "metadata": {},
   "outputs": [],
   "source": [
    "from clickhouse_driver import Client\n",
    "\n",
    "import re\n",
    "from tqdm import tqdm_notebook as tqdm"
   ]
  },
  {
   "cell_type": "code",
   "execution_count": 2,
   "metadata": {},
   "outputs": [],
   "source": [
    "CLICKHOUSE_HOST = 'localhost'\n",
    "COMPRESSION = 'lz4'\n",
    "client = Client(host=CLICKHOUSE_HOST, compression=True)\n",
    "execute = client.execute\n",
    "FILE_FOULDER = './Data/'\n",
    "CHUNK_SIZE = 1500000"
   ]
  },
  {
   "cell_type": "code",
   "execution_count": 3,
   "metadata": {},
   "outputs": [
    {
     "data": {
      "text/plain": [
       "['caligraph-instances_dbpedia-mapping.nt',\n",
       " 'caligraph-instances_relations.nt',\n",
       " 'caligraph-instances_transitive-types.nt',\n",
       " 'caligraph-instances_types.nt',\n",
       " 'caligraph-metadata.nt',\n",
       " 'caligraph-ontology.nt',\n",
       " 'caligraph-ontology_dbpedia-mapping.nt',\n",
       " 'caligraph-ontology_provenance.nt',\n",
       " 'dbpedia_caligraph-instances.nt',\n",
       " 'dbpedia_caligraph-relations.nt',\n",
       " 'dbpedia_caligraph-types.nt']"
      ]
     },
     "execution_count": 3,
     "metadata": {},
     "output_type": "execute_result"
    }
   ],
   "source": [
    "filenames = !dir /b .\\Data\n",
    "filenames.remove('caligraph-instances_labels.nt') #only labels, not a graph\n",
    "filenames"
   ]
  },
  {
   "cell_type": "code",
   "execution_count": 4,
   "metadata": {},
   "outputs": [
    {
     "data": {
      "application/vnd.jupyter.widget-view+json": {
       "model_id": "e4dafb3f8fd64e3fbc848de48914904a",
       "version_major": 2,
       "version_minor": 0
      },
      "text/plain": [
       "HBox(children=(IntProgress(value=0, max=11), HTML(value='')))"
      ]
     },
     "metadata": {},
     "output_type": "display_data"
    },
    {
     "name": "stdout",
     "output_type": "stream",
     "text": [
      "\n",
      "Wall time: 1h 27min 15s\n"
     ]
    }
   ],
   "source": [
    "%%time\n",
    "p = re.compile(r\"<\\S*>\")\n",
    "\n",
    "def clear_trpl_string(triplet_str):  \n",
    "    if triplet_str.find('#')!=-1:\n",
    "        sep='#'\n",
    "    else:\n",
    "        sep='/'       \n",
    "    return triplet_str.strip('><?|&!_.()%/').split(sep)[-1]\n",
    "\n",
    "\n",
    "for file in tqdm(filenames):\n",
    "    chunk = []\n",
    "    for line in open(FILE_FOULDER + file, 'rt', encoding='utf-8'):\n",
    "        triplet =  p.findall(line)\n",
    "        \n",
    "        if len(triplet)==3:\n",
    "            subj, pred, obj = (clear_trpl_string(item) for item in triplet)\n",
    "        \n",
    "            if len(chunk)< CHUNK_SIZE:\n",
    "                chunk.append((file, subj, pred, obj))\n",
    "            else:\n",
    "                execute('''INSERT INTO \n",
    "                            kg.caligraph \n",
    "                               (source, subject, \n",
    "                                   predicate, object) VALUES''', chunk )\n",
    "                chunk = []\n",
    "        else:\n",
    "            continue\n",
    "    \n",
    "    #last run when exit for\n",
    "    if len(chunk)>0:\n",
    "        chunk.append((file, subj, pred, obj))\n",
    "        execute('''INSERT INTO \n",
    "                kg.caligraph \n",
    "                   (source, subject, \n",
    "                       predicate, object) VALUES''', chunk )"
   ]
  },
  {
   "cell_type": "code",
   "execution_count": null,
   "metadata": {},
   "outputs": [],
   "source": []
  }
 ],
 "metadata": {
  "kernelspec": {
   "display_name": "Python 3",
   "language": "python",
   "name": "python3"
  },
  "language_info": {
   "codemirror_mode": {
    "name": "ipython",
    "version": 3
   },
   "file_extension": ".py",
   "mimetype": "text/x-python",
   "name": "python",
   "nbconvert_exporter": "python",
   "pygments_lexer": "ipython3",
   "version": "3.7.3"
  }
 },
 "nbformat": 4,
 "nbformat_minor": 2
}
