{
 "cells": [
  {
   "cell_type": "code",
   "execution_count": 1,
   "metadata": {},
   "outputs": [],
   "source": [
    "from clickhouse_driver import Client\n",
    "\n",
    "import re\n",
    "from tqdm import tqdm_notebook as tqdm"
   ]
  },
  {
   "cell_type": "code",
   "execution_count": 2,
   "metadata": {},
   "outputs": [],
   "source": [
    "CLICKHOUSE_HOST = 'localhost'\n",
    "COMPRESSION = 'lz4'\n",
    "client = Client(host=CLICKHOUSE_HOST, compression=True)\n",
    "execute = client.execute\n",
    "FILE_FOULDER = './Data/'\n",
    "CHUNK_SIZE = 200000"
   ]
  },
  {
   "cell_type": "code",
   "execution_count": 3,
   "metadata": {},
   "outputs": [
    {
     "data": {
      "text/plain": [
       "['caligraph-instances_dbpedia-mapping.nt',\n",
       " 'caligraph-instances_labels.nt',\n",
       " 'caligraph-instances_relations.nt',\n",
       " 'caligraph-instances_transitive-types.nt',\n",
       " 'caligraph-instances_types.nt',\n",
       " 'caligraph-metadata.nt',\n",
       " 'caligraph-ontology.nt',\n",
       " 'caligraph-ontology_dbpedia-mapping.nt',\n",
       " 'caligraph-ontology_provenance.nt',\n",
       " 'dbpedia_caligraph-instances.nt',\n",
       " 'dbpedia_caligraph-relations.nt',\n",
       " 'dbpedia_caligraph-types.nt']"
      ]
     },
     "execution_count": 3,
     "metadata": {},
     "output_type": "execute_result"
    }
   ],
   "source": [
    "filenames = !dir /b .\\Data\n",
    "filenames"
   ]
  },
  {
   "cell_type": "code",
   "execution_count": 5,
   "metadata": {},
   "outputs": [
    {
     "data": {
      "application/vnd.jupyter.widget-view+json": {
       "model_id": "0024646337324c4984491137429a1bd0",
       "version_major": 2,
       "version_minor": 0
      },
      "text/plain": [
       "HBox(children=(IntProgress(value=0, max=12), HTML(value='')))"
      ]
     },
     "metadata": {},
     "output_type": "display_data"
    },
    {
     "name": "stdout",
     "output_type": "stream",
     "text": [
      "\n",
      "Wall time: 1h 29min 21s\n"
     ]
    }
   ],
   "source": [
    "%%time\n",
    "p = re.compile(r\"<\\S*>\")\n",
    "\n",
    "def clear_trpl_string(triplet_str):  \n",
    "    if triplet_str.find('#')!=-1:\n",
    "        sep='#'\n",
    "    else:\n",
    "        sep='/'       \n",
    "    return triplet_str.strip('!_|.()><%').split(sep)[-1]\n",
    "\n",
    "\n",
    "for file in tqdm(filenames):\n",
    "    chunk = []\n",
    "    for line in open(FILE_FOULDER + file, 'rt', encoding='utf-8'):\n",
    "        triplet =  p.findall(line)\n",
    "        if len(triplet)==3:\n",
    "            subj, pred, obj = (clear_trpl_string(item) for item in triplet)\n",
    "        else:\n",
    "            continue\n",
    "\n",
    "        if len(chunk)< CHUNK_SIZE:\n",
    "            chunk.append((file, subj, pred, obj))\n",
    "        else:\n",
    "            execute('''INSERT INTO \n",
    "                        kg.caligraph \n",
    "                           (source, subject, \n",
    "                               predicate, object) VALUES''', chunk )\n",
    "            chunk = []"
   ]
  }
 ],
 "metadata": {
  "kernelspec": {
   "display_name": "Python 3",
   "language": "python",
   "name": "python3"
  },
  "language_info": {
   "codemirror_mode": {
    "name": "ipython",
    "version": 3
   },
   "file_extension": ".py",
   "mimetype": "text/x-python",
   "name": "python",
   "nbconvert_exporter": "python",
   "pygments_lexer": "ipython3",
   "version": "3.7.3"
  }
 },
 "nbformat": 4,
 "nbformat_minor": 2
}
