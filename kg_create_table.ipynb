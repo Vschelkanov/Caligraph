{
 "cells": [
  {
   "cell_type": "code",
   "execution_count": 1,
   "metadata": {},
   "outputs": [],
   "source": [
    "from clickhouse_driver import Client\n",
    "\n",
    "CLICKHOUSE_HOST = 'localhost'\n",
    "client = Client(host=CLICKHOUSE_HOST)\n",
    "execute = client.execute\n",
    "\n",
    "RECREATE_DATABASE = False\n",
    "RECREATE_TABLE_CALIGRAPH = True\n",
    "\n",
    "if RECREATE_DATABASE:\n",
    "    execute('DROP DATABASE IF EXISTS kg')\n",
    "    execute('CREATE DATABASE IF NOT EXISTS kg')\n",
    "    \n",
    "execute('USE kg')\n",
    "\n",
    "if RECREATE_TABLE_CALIGRAPH:\n",
    "    execute('DROP TABLE IF EXISTS caligraph')\n",
    "    execute('''\n",
    "            CREATE TABLE IF NOT EXISTS caligraph(\n",
    "                    source String,\n",
    "                    subject String,\n",
    "                    predicate String,\n",
    "                    object String\n",
    "                )\n",
    "            ENGINE = ReplacingMergeTree()\n",
    "            ORDER BY (source, subject, predicate, object)\n",
    "            PARTITION BY source\n",
    "            SETTINGS storage_policy = 'moving_from_ssd_to_hdd';\n",
    "            ''')"
   ]
  }
 ],
 "metadata": {
  "kernelspec": {
   "display_name": "Python 3",
   "language": "python",
   "name": "python3"
  },
  "language_info": {
   "codemirror_mode": {
    "name": "ipython",
    "version": 3
   },
   "file_extension": ".py",
   "mimetype": "text/x-python",
   "name": "python",
   "nbconvert_exporter": "python",
   "pygments_lexer": "ipython3",
   "version": "3.7.3"
  }
 },
 "nbformat": 4,
 "nbformat_minor": 2
}
